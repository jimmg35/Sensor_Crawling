{
 "metadata": {
  "language_info": {
   "codemirror_mode": {
    "name": "ipython",
    "version": 3
   },
   "file_extension": ".py",
   "mimetype": "text/x-python",
   "name": "python",
   "nbconvert_exporter": "python",
   "pygments_lexer": "ipython3",
   "version": "3.7.3"
  },
  "orig_nbformat": 2,
  "kernelspec": {
   "name": "python3",
   "display_name": "Python 3.7.3 64-bit",
   "metadata": {
    "interpreter": {
     "hash": "57368a251b19e92e035b0403c195fc6fe711fe0be4b26a7a7e874c2410be47e9"
    }
   }
  }
 },
 "nbformat": 4,
 "nbformat_minor": 2,
 "cells": [
  {
   "source": [
    "# Import modules"
   ],
   "cell_type": "markdown",
   "metadata": {}
  },
  {
   "cell_type": "code",
   "execution_count": 1,
   "metadata": {},
   "outputs": [],
   "source": [
    "# import essential modules\n",
    "import requests\n",
    "import json\n",
    "from typing import List, Dict\n",
    "\n",
    "# import main functionality\n",
    "from src.utils import UrlBundler, Storer, Key\n",
    "from src.requester import Requester\n",
    "from src.parser import Parser"
   ]
  },
  {
   "source": [
    "# Initialize fundamental classes"
   ],
   "cell_type": "markdown",
   "metadata": {}
  },
  {
   "cell_type": "code",
   "execution_count": 2,
   "metadata": {},
   "outputs": [],
   "source": [
    "# initialize basic object\n",
    "myKey = Key()\n",
    "myBundler = UrlBundler()\n",
    "myStorage = Storer()\n",
    "\n",
    "# initialize my requester\n",
    "myReq = Requester(myBundler, myKey)"
   ]
  },
  {
   "source": [
    "# Get all projects data"
   ],
   "cell_type": "markdown",
   "metadata": {}
  },
  {
   "cell_type": "code",
   "execution_count": 3,
   "metadata": {},
   "outputs": [],
   "source": [
    "# get projects metadata\n",
    "projMeta = myReq.getAllProjectsMeta()\n",
    "projMeta_processed = Parser.parseProjectMeta(projMeta)\n",
    "myStorage.insert(projMeta_processed, \"ProjectData\")"
   ]
  }
 ]
}