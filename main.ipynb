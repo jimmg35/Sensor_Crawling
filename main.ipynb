{
 "metadata": {
  "language_info": {
   "codemirror_mode": {
    "name": "ipython",
    "version": 3
   },
   "file_extension": ".py",
   "mimetype": "text/x-python",
   "name": "python",
   "nbconvert_exporter": "python",
   "pygments_lexer": "ipython3",
   "version": "3.7.3"
  },
  "orig_nbformat": 2,
  "kernelspec": {
   "name": "python3",
   "display_name": "Python 3.7.3 64-bit",
   "metadata": {
    "interpreter": {
     "hash": "57368a251b19e92e035b0403c195fc6fe711fe0be4b26a7a7e874c2410be47e9"
    }
   }
  }
 },
 "nbformat": 4,
 "nbformat_minor": 2,
 "cells": [
  {
   "source": [
    "# Import modules"
   ],
   "cell_type": "markdown",
   "metadata": {}
  },
  {
   "cell_type": "code",
   "execution_count": 1,
   "metadata": {},
   "outputs": [],
   "source": [
    "# import essential modules\n",
    "import requests\n",
    "import json\n",
    "from typing import List, Dict\n",
    "\n",
    "# import main functionality\n",
    "from src.dbcontext import Dbcontext, Storer\n",
    "from src.utils import UrlBundler, Key\n",
    "from src.requester import Requester\n",
    "from src.parser import Parser"
   ]
  },
  {
   "source": [
    "# Initialize fundamental classes"
   ],
   "cell_type": "markdown",
   "metadata": {}
  },
  {
   "cell_type": "code",
   "execution_count": 2,
   "metadata": {},
   "outputs": [
    {
     "output_type": "stream",
     "name": "stdout",
     "text": [
      "Successfully connected to local PostgreSQL server| User: @postgres\n                        Currently connected to database: @sensordata\n"
     ]
    }
   ],
   "source": [
    "# initialize basic object.\n",
    "myKey = Key()\n",
    "myBundler = UrlBundler()\n",
    "myReq = Requester(myBundler, myKey)\n",
    "\n",
    "# initialize dbcontext\n",
    "myDBcontext = Dbcontext({\"user\":\"postgres\",\n",
    "                            \"password\":\"jim60308\",\n",
    "                            \"host\":\"localhost\",\n",
    "                            \"port\":\"5432\"}, \"sensordata\")\n",
    "myStorage = Storer(myDBcontext)"
   ]
  },
  {
   "source": [
    "# Get all projects data"
   ],
   "cell_type": "markdown",
   "metadata": {}
  },
  {
   "cell_type": "code",
   "execution_count": 3,
   "metadata": {},
   "outputs": [
    {
     "output_type": "stream",
     "name": "stdout",
     "text": [
      "All Projects Meta downloaded!\n",
      "Project[528] devices data downloaded!\n",
      "Project[565] devices data downloaded!\n",
      "Project[571] devices data downloaded!\n",
      "Project[586] devices data downloaded!\n",
      "Project[587] devices data downloaded!\n",
      "Project[588] devices data downloaded!\n",
      "Project[622] devices data downloaded!\n",
      "Project[624] devices data downloaded!\n",
      "Project[626] devices data downloaded!\n",
      "Project[641] devices data downloaded!\n",
      "Project[643] devices data downloaded!\n",
      "Project[671] devices data downloaded!\n",
      "Project[672] devices data downloaded!\n",
      "Project[673] devices data downloaded!\n",
      "Project[674] devices data downloaded!\n",
      "Project[675] devices data downloaded!\n",
      "Project[677] devices data downloaded!\n",
      "Project[678] devices data downloaded!\n",
      "Project[680] devices data downloaded!\n",
      "Project[681] devices data downloaded!\n",
      "Project[703] devices data downloaded!\n",
      "Project[704] devices data downloaded!\n",
      "Project[705] devices data downloaded!\n",
      "Project[706] devices data downloaded!\n",
      "Project[707] devices data downloaded!\n",
      "Project[709] devices data downloaded!\n",
      "Project[717] devices data downloaded!\n",
      "Project[722] devices data downloaded!\n",
      "Project[725] devices data downloaded!\n",
      "Project[730] devices data downloaded!\n",
      "Project[731] devices data downloaded!\n",
      "Project[732] devices data downloaded!\n",
      "Project[733] devices data downloaded!\n",
      "Project[734] devices data downloaded!\n",
      "Project[735] devices data downloaded!\n",
      "Project[736] devices data downloaded!\n",
      "Project[737] devices data downloaded!\n",
      "Project[756] devices data downloaded!\n",
      "Project[796] devices data downloaded!\n",
      "Project[797] devices data downloaded!\n",
      "Project[815] devices data downloaded!\n",
      "Project[817] devices data downloaded!\n",
      "Project[818] devices data downloaded!\n",
      "Project[819] devices data downloaded!\n",
      "Project[820] devices data downloaded!\n",
      "Project[821] devices data downloaded!\n",
      "Project[822] devices data downloaded!\n",
      "Project[823] devices data downloaded!\n",
      "Project[824] devices data downloaded!\n",
      "Project[825] devices data downloaded!\n",
      "Project[826] devices data downloaded!\n",
      "Project[827] devices data downloaded!\n",
      "Project[828] devices data downloaded!\n",
      "Project[829] devices data downloaded!\n",
      "Project[850] devices data downloaded!\n",
      "Project[888] devices data downloaded!\n",
      "Project[891] devices data downloaded!\n",
      "Project[956] devices data downloaded!\n",
      "Project[1019] devices data downloaded!\n",
      "Project[1024] devices data downloaded!\n",
      "Project[1025] devices data downloaded!\n",
      "Project[1027] devices data downloaded!\n",
      "Project[1029] devices data downloaded!\n",
      "Project[1032] devices data downloaded!\n",
      "Project[1034] devices data downloaded!\n",
      "Project[1035] devices data downloaded!\n",
      "Project[1036] devices data downloaded!\n",
      "Project[1044] devices data downloaded!\n",
      "Project[1048] devices data downloaded!\n",
      "Project[1058] devices data downloaded!\n",
      "Project[1071] devices data downloaded!\n",
      "Project[1072] devices data downloaded!\n",
      "Project[1075] devices data downloaded!\n",
      "Project[1076] devices data downloaded!\n",
      "Project[1079] devices data downloaded!\n",
      "Project[1084] devices data downloaded!\n",
      "Project[1085] devices data downloaded!\n",
      "Project[1093] devices data downloaded!\n",
      "Project[1094] devices data downloaded!\n",
      "Project[1097] devices data downloaded!\n",
      "Project[1102] devices data downloaded!\n",
      "Project[1107] devices data downloaded!\n",
      "Project[1120] devices data downloaded!\n",
      "Project[1127] devices data downloaded!\n",
      "Project[1137] devices data downloaded!\n",
      "Project[1145] devices data downloaded!\n",
      "Project[1147] devices data downloaded!\n",
      "Project[1156] devices data downloaded!\n",
      "Project[1162] devices data downloaded!\n",
      "Project[1167] devices data downloaded!\n",
      "Project[1184] devices data downloaded!\n",
      "Project[1189] devices data downloaded!\n",
      "Project[1190] devices data downloaded!\n",
      "Project[1192] devices data downloaded!\n",
      "Project[1201] devices data downloaded!\n",
      "Project[1207] devices data downloaded!\n",
      "Project[1208] devices data downloaded!\n"
     ]
    }
   ],
   "source": [
    "# get projects metadata.\n",
    "projMeta = myReq.getAllProjectsMeta()\n",
    "projMeta_processed = Parser.parseProjectMeta(projMeta)\n",
    "myStorage.insert(projMeta_processed, \"ProjectData\")\n",
    "\n",
    "# get devices of every project.\n",
    "deviceMeta = myReq.getDevicesOfProject(myStorage)\n",
    "deviceMeta_processed = Parser.parseDevicesMeta(deviceMeta)\n",
    "myStorage.insert(deviceMeta_processed, \"DeviceMeta\")"
   ]
  },
  {
   "source": [
    "# Import Data into database"
   ],
   "cell_type": "markdown",
   "metadata": {}
  },
  {
   "cell_type": "code",
   "execution_count": 4,
   "metadata": {},
   "outputs": [
    {
     "output_type": "stream",
     "name": "stdout",
     "text": [
      "INSERT INTO projectmeta (deviceid,projectkey,projectid,name,descr,type,lat,lon,alt,reference,display,devicetype,ownerid,manufacturerid,manufacturername,mobile,outdoor,county,locationid,uri,updatetime,tags,area,areatype,areatype_2,_chk_lat_lon,devstat,errorcode,landmark,mac_id,mb_id,road,sb_id,target,town,subdevicetype,device_type,enable,project_id,areatype_3,key2,address,hei,label,locationid_2,owner,region) VALUES(6212250069,'PKXXFX71H1W72TMWYW','528','TW010108A0100514','柏昇SAQ-200','general','24.1763725','120.6141585','3.0','False','True','15','EPA','aeclpad','柏昇企業股份有限公司','false','True','臺中市','TW010108A0100514','None','None','None','工業區一路','工業區','交通區','true','0','00000000000000000000000000000000','92號','861108033181495','20323356483350050037005F','工業區一路','0202 0404','大福宮','西屯區','None','None','None','None','None','None','None','None','None','None','None','None')\n"
     ]
    }
   ],
   "source": [
    "myStorage.import2Database(\"ProjectData\")\n",
    "myStorage.import2Database(\"DeviceMeta\")"
   ]
  }
 ]
}